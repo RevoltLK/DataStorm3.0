{
 "cells": [
  {
   "cell_type": "markdown",
   "metadata": {},
   "source": [
    "# Data Model for predicting the sales of a given item for a given week - Using linear regression\n",
    "\n",
    "## Data\n",
    "1. train_data.csv - A dataset with the daily sales of each item\n",
    "2. validation_data.csv - A dataset of the weekly sales of a selected number of items\n",
    "3. test_data.csv - A dataset to be completed by perdicted values of sales\n",
    "\n",
    "### Step 1: Organizing the data\n",
    "Create a dataset with the weekly sales ('named weekly_data.csv') of the items from the train_data.csv file"
   ]
  },
  {
   "cell_type": "code",
   "execution_count": 2,
   "metadata": {},
   "outputs": [],
   "source": [
    "# Required dependencies\n",
    "from csv import DictReader\n",
    "from datetime import datetime as dt\n",
    "from datetime import timedelta as td"
   ]
  },
  {
   "cell_type": "code",
   "execution_count": 4,
   "metadata": {},
   "outputs": [
    {
     "name": "stdout",
     "output_type": "stream",
     "text": [
      "19\n"
     ]
    }
   ],
   "source": [
    "# A function to filter out the items in each week\n",
    "def filterItems(train_dataset_file:str, start_date:str, end_date:str) -> dict:\n",
    "    with open(train_dataset_file) as f:\n",
    "        data = DictReader(f)\n",
    "\n",
    "        start_date = dt.strptime(start_date, \"%m/%d/%Y\")\n",
    "        end_date = dt.strptime(end_date, \"%m/%d/%Y\")\n",
    "        week = td(days=7)\n",
    "        days_td = (end_date-start_date)\n",
    "        num_weeks = int((((days_td.total_seconds()//3600)//24)//7))\n",
    "\n",
    "        weeks = {f'w{j+1}':{'start':start_date+j*week,'items':{}} for j in range(num_weeks)}\n",
    "\n",
    "        for row in data:\n",
    "            date = dt.strptime(row['DateID'], '%m/%d/%Y')\n",
    "            for key, value in weeks.items():\n",
    "\n",
    "                start,items = value['start'], value['items']\n",
    "    \n",
    "                if start<=date<=start+week*4:\n",
    "                    # If the item was added earlier\n",
    "                    if row['ItemCode'] in items.keys():\n",
    "                        items[row['ItemCode']]['WeeklySales']+=int(row['DailySales'])\n",
    "                    # If the item was not added\n",
    "                    else:\n",
    "                        items[row['ItemCode']] = {\n",
    "                            'CategoryCode':row['CategoryCode'],\n",
    "                            'ItemCode':row['ItemCode'],\n",
    "                            'WeeklySales':0\n",
    "                        }\n",
    "    return weeks\n",
    "\n",
    "weeks = filterItems('./train_data.csv', '10/01/2021', '02/13/2022')\n",
    "print(len(weeks))\n"
   ]
  },
  {
   "cell_type": "code",
   "execution_count": null,
   "metadata": {},
   "outputs": [],
   "source": []
  }
 ],
 "metadata": {
  "interpreter": {
   "hash": "c538cf36d1368961783812db133503b5bcd381ebafab078933f492cb36ca4168"
  },
  "kernelspec": {
   "display_name": "Python 3 (ipykernel)",
   "language": "python",
   "name": "python3"
  },
  "language_info": {
   "codemirror_mode": {
    "name": "ipython",
    "version": 3
   },
   "file_extension": ".py",
   "mimetype": "text/x-python",
   "name": "python",
   "nbconvert_exporter": "python",
   "pygments_lexer": "ipython3",
   "version": "3.9.7"
  }
 },
 "nbformat": 4,
 "nbformat_minor": 2
}
